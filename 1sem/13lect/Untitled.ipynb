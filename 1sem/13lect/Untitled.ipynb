{
 "cells": [
  {
   "cell_type": "markdown",
   "id": "377506de",
   "metadata": {},
   "source": [
    "# Попробуем реализовать проверку скорости печати в терминале"
   ]
  },
  {
   "cell_type": "markdown",
   "id": "28eb1353",
   "metadata": {},
   "source": [
    "## Что для этого нужно?"
   ]
  },
  {
   "cell_type": "code",
   "execution_count": null,
   "id": "411d7d9e",
   "metadata": {},
   "outputs": [],
   "source": []
  },
  {
   "cell_type": "code",
   "execution_count": null,
   "id": "2e4262b5",
   "metadata": {},
   "outputs": [],
   "source": []
  },
  {
   "cell_type": "code",
   "execution_count": null,
   "id": "ebd94ce3",
   "metadata": {},
   "outputs": [],
   "source": []
  },
  {
   "cell_type": "code",
   "execution_count": null,
   "id": "39ee12a4",
   "metadata": {},
   "outputs": [],
   "source": []
  },
  {
   "cell_type": "code",
   "execution_count": null,
   "id": "c79c2245",
   "metadata": {},
   "outputs": [],
   "source": []
  },
  {
   "cell_type": "code",
   "execution_count": null,
   "id": "4b8c9c19",
   "metadata": {},
   "outputs": [],
   "source": []
  },
  {
   "cell_type": "code",
   "execution_count": null,
   "id": "e7de06a3",
   "metadata": {},
   "outputs": [],
   "source": []
  },
  {
   "cell_type": "code",
   "execution_count": null,
   "id": "94205692",
   "metadata": {},
   "outputs": [],
   "source": []
  },
  {
   "cell_type": "code",
   "execution_count": null,
   "id": "bcffc77b",
   "metadata": {},
   "outputs": [],
   "source": []
  },
  {
   "cell_type": "code",
   "execution_count": null,
   "id": "a2765c21",
   "metadata": {},
   "outputs": [],
   "source": []
  },
  {
   "cell_type": "code",
   "execution_count": null,
   "id": "046d91ef",
   "metadata": {},
   "outputs": [],
   "source": []
  },
  {
   "cell_type": "code",
   "execution_count": null,
   "id": "05d27de6",
   "metadata": {},
   "outputs": [],
   "source": []
  },
  {
   "cell_type": "code",
   "execution_count": null,
   "id": "0eb5860e",
   "metadata": {},
   "outputs": [],
   "source": []
  },
  {
   "cell_type": "code",
   "execution_count": null,
   "id": "e269126b",
   "metadata": {},
   "outputs": [],
   "source": []
  },
  {
   "cell_type": "code",
   "execution_count": null,
   "id": "a8eff139",
   "metadata": {},
   "outputs": [],
   "source": []
  },
  {
   "cell_type": "code",
   "execution_count": null,
   "id": "f06aa416",
   "metadata": {},
   "outputs": [],
   "source": []
  },
  {
   "cell_type": "code",
   "execution_count": null,
   "id": "740fbdb3",
   "metadata": {},
   "outputs": [],
   "source": []
  },
  {
   "cell_type": "code",
   "execution_count": null,
   "id": "0ba92b61",
   "metadata": {},
   "outputs": [],
   "source": []
  },
  {
   "cell_type": "code",
   "execution_count": null,
   "id": "a4b5d339",
   "metadata": {},
   "outputs": [],
   "source": [
    "import curses\n",
    "import time \n",
    "from pygame import mixer\n",
    "from faker import Faker"
   ]
  },
  {
   "cell_type": "markdown",
   "id": "1571d9ac",
   "metadata": {},
   "source": [
    "## Генерация текста для проверки"
   ]
  },
  {
   "cell_type": "code",
   "execution_count": null,
   "id": "db5bfc4b",
   "metadata": {},
   "outputs": [],
   "source": [
    "# !pip install faker\n",
    "# !pip install pygame"
   ]
  },
  {
   "cell_type": "code",
   "execution_count": null,
   "id": "22a89a16",
   "metadata": {},
   "outputs": [],
   "source": [
    "from faker import Faker\n",
    "fake = Faker(locale='en')"
   ]
  },
  {
   "cell_type": "code",
   "execution_count": null,
   "id": "4204abc7",
   "metadata": {},
   "outputs": [],
   "source": [
    "fake.paragraph(nb_sentences=5)"
   ]
  },
  {
   "cell_type": "code",
   "execution_count": null,
   "id": "5fa847d6",
   "metadata": {},
   "outputs": [],
   "source": []
  },
  {
   "cell_type": "markdown",
   "id": "a6494ded",
   "metadata": {},
   "source": [
    "## Захват экрана (не запускай код в юпитере, убьет)\n",
    "\n",
    "initscr() возвращает оконный объект, который является экраном терминала.\n",
    "Когда происходит инициализация, ширина и высота терминала возвращается с помощью initscr. Она равна физическим высоте и ширине"
   ]
  },
  {
   "cell_type": "code",
   "execution_count": null,
   "id": "55fadbf3",
   "metadata": {},
   "outputs": [],
   "source": [
    "import curses\n",
    "\n",
    "stdscr = curses.initscr()"
   ]
  },
  {
   "cell_type": "markdown",
   "id": "f76db61e",
   "metadata": {},
   "source": [
    "refresh() - функция для обновления дисплея\n",
    "\n",
    "wrapper() - функция, которая принимает callable объект и выполняет ее.\n",
    "\n",
    "addstr() - функция для добавления текста на экран (принимает позицию текста на экране и текст)"
   ]
  },
  {
   "cell_type": "code",
   "execution_count": null,
   "id": "44475b68",
   "metadata": {},
   "outputs": [],
   "source": [
    "import curses \n",
    "\n",
    "def main(stdscr):\n",
    "    stdscr = curses.initscr()\n",
    "    text = \"Hello!\"\n",
    "    \n",
    "    stdscr.addstr(0, 5, text)\n",
    "    stdscr.refresh()\n",
    "    \n",
    "    curses.napms(1000)\n",
    "    \n",
    "curses.wrapper(main)"
   ]
  },
  {
   "cell_type": "markdown",
   "id": "04d1a43e",
   "metadata": {},
   "source": [
    "## Получение текста с клавиатуры"
   ]
  },
  {
   "cell_type": "code",
   "execution_count": null,
   "id": "94c8c130",
   "metadata": {},
   "outputs": [],
   "source": [
    "keyPress = stdscr.getkey()"
   ]
  },
  {
   "cell_type": "markdown",
   "id": "44664e45",
   "metadata": {},
   "source": [
    "## Отображение текста\n",
    "\n",
    "curses.start_color() - нужно для отображения текста нужного цвета\n",
    "\n",
    "init_pair(pair_num, foreground_color, background_color) нужно для инициализации пар цветов (цвет текста и фона)"
   ]
  },
  {
   "cell_type": "code",
   "execution_count": null,
   "id": "42175cdd",
   "metadata": {},
   "outputs": [],
   "source": [
    "curses.start_color()\n",
    "curses.init_pair(1, curses.COLOR_MAGENTA, curses.COLOR_BLACK)"
   ]
  },
  {
   "cell_type": "markdown",
   "id": "52d9e7f2",
   "metadata": {},
   "source": [
    "## Отображение информации о прошедшем времени и скорости печати"
   ]
  },
  {
   "cell_type": "code",
   "execution_count": null,
   "id": "9d893be3",
   "metadata": {},
   "outputs": [],
   "source": [
    "stdscr.addstr(text)\n",
    "\n",
    "stdscr.addstr(5, 0, f\"Typing Speed in words per minute (wpm): {wpm}\")\n",
    "stdscr.addstr(4, 0, f\"Typing Speed in characters per minute : {cpm}\")\n",
    "stdscr.addstr(6, 0, f\"Seconds elapsed : {round(seconds_passed, 2)} seconds\") \n",
    "stdscr.addstr(7, 0, f\"Errors count : {errors}\") "
   ]
  },
  {
   "cell_type": "markdown",
   "id": "32b100ee",
   "metadata": {},
   "source": [
    "## Отображение в нужных цветах введенного текста"
   ]
  },
  {
   "cell_type": "code",
   "execution_count": null,
   "id": "07cfdaeb",
   "metadata": {},
   "outputs": [],
   "source": [
    "for index, letter in enumerate(typed_text):\n",
    "    correct_char = text[index]\n",
    "    if letter != correct_char:\n",
    "        text_color = curses.color_pair(2)\n",
    "    else:\n",
    "        text_color = curses.color_pair(1)\n",
    "\n",
    "    stdscr.addstr(index // 123, index % 123, letter, text_color)"
   ]
  },
  {
   "cell_type": "markdown",
   "id": "b1570fe2",
   "metadata": {},
   "source": [
    "## Подсчет характеристик"
   ]
  },
  {
   "cell_type": "code",
   "execution_count": null,
   "id": "3f9839bb",
   "metadata": {},
   "outputs": [],
   "source": [
    "seconds_passed = max((time.time() - start_time), 1)\n",
    "cpm = int(len(typed_text) / (seconds_passed / 60))\n",
    "wpm = round((cpm/5), 2)"
   ]
  },
  {
   "cell_type": "markdown",
   "id": "b80a2bf7",
   "metadata": {},
   "source": [
    "## Бонусом добавление фонового аудио"
   ]
  },
  {
   "cell_type": "code",
   "execution_count": 1,
   "id": "f495b702",
   "metadata": {},
   "outputs": [
    {
     "name": "stdout",
     "output_type": "stream",
     "text": [
      "pygame 2.5.2 (SDL 2.28.3, Python 3.11.1)\n",
      "Hello from the pygame community. https://www.pygame.org/contribute.html\n"
     ]
    }
   ],
   "source": [
    "from pygame import mixer"
   ]
  },
  {
   "cell_type": "code",
   "execution_count": 3,
   "id": "e51dc785",
   "metadata": {},
   "outputs": [],
   "source": [
    " mixer.init() "
   ]
  },
  {
   "cell_type": "code",
   "execution_count": 6,
   "id": "383996a3",
   "metadata": {},
   "outputs": [],
   "source": [
    "if not mixer.music.get_busy():\n",
    "    mixer.music.load('src/shit_music.mp3')\n",
    "    mixer.music.play()"
   ]
  },
  {
   "cell_type": "markdown",
   "id": "1ad29892",
   "metadata": {},
   "source": [
    "## Добавление аудио для ошибок"
   ]
  },
  {
   "cell_type": "code",
   "execution_count": 20,
   "id": "28fc068f",
   "metadata": {},
   "outputs": [],
   "source": [
    "walk_channel = mixer.Channel(2)\n",
    "walk_sound = mixer.Sound(\"src/ouch.wav\")\n",
    "walk_channel.play(walk_sound)"
   ]
  },
  {
   "cell_type": "code",
   "execution_count": null,
   "id": "a0c64449",
   "metadata": {},
   "outputs": [],
   "source": []
  },
  {
   "cell_type": "markdown",
   "id": "9c0b21e0",
   "metadata": {},
   "source": [
    "## В результате будет что-то такое"
   ]
  },
  {
   "cell_type": "code",
   "execution_count": null,
   "id": "ea5c9913",
   "metadata": {},
   "outputs": [],
   "source": [
    "import curses\n",
    "import time \n",
    "from pygame import mixer\n",
    "from faker import Faker"
   ]
  },
  {
   "cell_type": "code",
   "execution_count": null,
   "id": "8b447835",
   "metadata": {},
   "outputs": [],
   "source": [
    "fake = Faker(locale='en')\n",
    "text = fake.paragraph(nb_sentences=5)\n",
    "errors = 0\n"
   ]
  },
  {
   "cell_type": "code",
   "execution_count": null,
   "id": "3aff8028",
   "metadata": {},
   "outputs": [],
   "source": [
    "def show_speed(stdscr, text, typed_text, cpm, wpm, seconds_passed):\n",
    "    global errors\n",
    "    \n",
    "    stdscr.addstr(text)\n",
    "    stdscr.addstr(5, 0, f\"Typing Speed in words per minute (wpm): {wpm}\")\n",
    "    stdscr.addstr(4, 0, f\"Typing Speed in characters per minute : {cpm}\")\n",
    "    stdscr.addstr(6, 0, f\"Seconds elapsed : {round(seconds_passed, 2)} seconds\") \n",
    "    stdscr.addstr(7, 0, f\"Errors count : {errors}\") \n",
    "\n",
    "\n",
    "    for index, letter in enumerate(typed_text):\n",
    "        correct_char = text[index]\n",
    "        if letter != correct_char:\n",
    "            text_color = curses.color_pair(2)\n",
    "        else:\n",
    "            text_color = curses.color_pair(1)\n",
    "\n",
    "        stdscr.addstr(index // 123, index % 123, letter, text_color)\n",
    "    "
   ]
  },
  {
   "cell_type": "code",
   "execution_count": null,
   "id": "d8a551d0",
   "metadata": {},
   "outputs": [],
   "source": [
    "def speed(stdscr):\n",
    "    global text\n",
    "    global errors\n",
    "\n",
    "    \n",
    "    mixer.init() \n",
    "    \n",
    "    \n",
    "    typed_text = []\n",
    "    wpm = 0\n",
    "    start_time = time.time()\n",
    "    errors = 0\n",
    "    curses.flushinp()\n",
    "\n",
    "    while True:\n",
    "        if not mixer.music.get_busy():\n",
    "            mixer.music.load('src/shit_music.mp3')\n",
    "            mixer.music.play()\n",
    "        seconds_passed = max((time.time() - start_time), 1)\n",
    "        cpm = int(len(typed_text) / (seconds_passed/60))\n",
    "        wpm = round((cpm/5), 2)\n",
    "\n",
    "        stdscr.clear()\n",
    "        show_speed(stdscr, text, typed_text, cpm, wpm, seconds_passed)\n",
    "        stdscr.refresh()\n",
    "\n",
    "        if \"\".join(typed_text) == text:\n",
    "            stdscr.nodelay(False)\n",
    "            break\n",
    "        \n",
    "        try:\n",
    "            keyPress = stdscr.getkey()\n",
    "        except:\n",
    "            continue\n",
    "\n",
    "\n",
    "        if len(typed_text) == len(text):\n",
    "            break\n",
    "\n",
    "        if ord(keyPress) == 27:\n",
    "            break \n",
    "        \n",
    "        if keyPress in (\"KEY_BACKSPACE\", '\\b', '\\x7f'):\n",
    "            if len(typed_text) > 0:\n",
    "                typed_text.pop()\n",
    "\n",
    "        elif len(typed_text) < len(text):\n",
    "            if keyPress != text[len(typed_text)]:\n",
    "                walk_channel = mixer.Channel(2)\n",
    "                walk_sound = mixer.Sound(\"src/ouch.wav\")\n",
    "                walk_channel.play(walk_sound)\n",
    "                errors += 1\n",
    "            typed_text.append(keyPress)"
   ]
  },
  {
   "cell_type": "code",
   "execution_count": null,
   "id": "eeee3279",
   "metadata": {},
   "outputs": [],
   "source": [
    "def main(stdscr):\n",
    "    global text\n",
    "    curses.init_pair(1, curses.COLOR_MAGENTA, curses.COLOR_BLACK)\n",
    "    curses.init_pair(2, curses.COLOR_CYAN, curses.COLOR_BLACK)\n",
    "    curses.init_pair(3, curses.COLOR_WHITE, curses.COLOR_BLACK)\n",
    "    curses.init_pair(4, curses.COLOR_RED, curses.COLOR_BLACK)\n",
    "    \n",
    "    while True:\n",
    "        speed(stdscr)\n",
    "\n",
    "        #color blinking\n",
    "        for i in range(0,2):\n",
    "            stdscr.addstr(0, 0, text, curses.color_pair(2))\n",
    "            stdscr.refresh()\n",
    "            curses.napms(400)\n",
    "            stdscr.addstr(0, 0, text, curses.color_pair(4))\n",
    "            stdscr.refresh()\n",
    "            curses.napms(400)\n",
    "            stdscr.addstr(0, 0, text, curses.color_pair(1))\n",
    "            stdscr.refresh()\n",
    "            curses.napms(400)\n",
    "\n",
    "\n",
    "        stdscr.addstr(8, 0, \"Yay!! Press any key to continue. \\nTo exit press the escape button.\")\n",
    "\n",
    "        curses.flushinp()\n",
    "        keyPress = stdscr.getkey()\n",
    "        \n",
    "        #break if esc key is pressed\n",
    "        if ord(keyPress) == 27:\n",
    "            break\n",
    "\n",
    "        text = fake.paragraph(nb_sentences=5)\n"
   ]
  },
  {
   "cell_type": "code",
   "execution_count": null,
   "id": "8bea6570",
   "metadata": {},
   "outputs": [],
   "source": [
    "curses.wrapper(main)"
   ]
  },
  {
   "cell_type": "code",
   "execution_count": null,
   "id": "e2bf90ea",
   "metadata": {},
   "outputs": [],
   "source": []
  }
 ],
 "metadata": {
  "kernelspec": {
   "display_name": "Python 3 (ipykernel)",
   "language": "python",
   "name": "python3"
  },
  "language_info": {
   "codemirror_mode": {
    "name": "ipython",
    "version": 3
   },
   "file_extension": ".py",
   "mimetype": "text/x-python",
   "name": "python",
   "nbconvert_exporter": "python",
   "pygments_lexer": "ipython3",
   "version": "3.11.1"
  }
 },
 "nbformat": 4,
 "nbformat_minor": 5
}
