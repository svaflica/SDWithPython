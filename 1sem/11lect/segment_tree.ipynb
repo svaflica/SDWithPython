{
 "cells": [
  {
   "cell_type": "markdown",
   "metadata": {},
   "source": [
    "# Дерево отрезков"
   ]
  },
  {
   "cell_type": "markdown",
   "metadata": {},
   "source": [
    "[ссылка на пояснения](https://ru.algorithmica.org/cs/segment-tree/)"
   ]
  },
  {
   "cell_type": "code",
   "execution_count": 1,
   "metadata": {},
   "outputs": [],
   "source": [
    "# Import necessary libraries\n",
    "import numpy as np\n"
   ]
  },
  {
   "cell_type": "code",
   "execution_count": 2,
   "metadata": {},
   "outputs": [],
   "source": [
    "\n",
    "# Define the SegmentTree class\n",
    "class SegmentTree:\n",
    "    def __init__(self, arr):\n",
    "        self.n = len(arr)\n",
    "        self.tree = np.zeros(4 * self.n)  # Using NumPy for array operations\n",
    "        self.build(arr, 1, 0, self.n - 1)\n",
    "\n",
    "    def build(self, arr, v, tl, tr):\n",
    "        if tl == tr:\n",
    "            self.tree[v] = arr[tl]\n",
    "        else:\n",
    "            tm = (tl + tr) // 2\n",
    "            self.build(arr, 2 * v, tl, tm)\n",
    "            self.build(arr, 2 * v + 1, tm + 1, tr)\n",
    "            self.tree[v] = self.tree[2 * v] + self.tree[2 * v + 1]\n",
    "\n",
    "    def update(self, index, value):\n",
    "        self._update(1, 0, self.n - 1, index, value)\n",
    "\n",
    "    def _update(self, v, tl, tr, index, value):\n",
    "        if tl == tr:\n",
    "            self.tree[v] = value\n",
    "        else:\n",
    "            tm = (tl + tr) // 2\n",
    "            if index <= tm:\n",
    "                self._update(2 * v, tl, tm, index, value)\n",
    "            else:\n",
    "                self._update(2 * v + 1, tm + 1, tr, index, value)\n",
    "            self.tree[v] = self.tree[2 * v] + self.tree[2 * v + 1]\n",
    "\n",
    "    def query(self, left, right):\n",
    "        return self._query(1, 0, self.n - 1, left, right)\n",
    "\n",
    "    def _query(self, v, tl, tr, left, right):\n",
    "        if left > right:\n",
    "            return 0\n",
    "        if left == tl and right == tr:\n",
    "            return self.tree[v]\n",
    "        tm = (tl + tr) // 2\n",
    "        left_sum = self._query(2 * v, tl, tm, left, min(right, tm))\n",
    "        right_sum = self._query(2 * v + 1, tm + 1, tr, max(left, tm + 1), right)\n",
    "        return left_sum + right_sum\n"
   ]
  },
  {
   "cell_type": "code",
   "execution_count": 17,
   "metadata": {},
   "outputs": [],
   "source": [
    "# Example usage:\n",
    "arr = [1, 2, 3, 4, 5]"
   ]
  },
  {
   "cell_type": "code",
   "execution_count": 19,
   "metadata": {},
   "outputs": [],
   "source": [
    "\n",
    "# Create a SegmentTree instance\n",
    "seg_tree = SegmentTree(arr)"
   ]
  },
  {
   "cell_type": "code",
   "execution_count": 5,
   "metadata": {},
   "outputs": [
    {
     "name": "stdout",
     "output_type": "stream",
     "text": [
      "Original Array: [1, 2, 3, 4, 5]\n",
      "Segment Tree: [ 0. 15.  6.  9.  3.  3.  4.  5.  1.  2.  0.  0.  0.  0.  0.  0.  0.  0.\n",
      "  0.  0.]\n"
     ]
    }
   ],
   "source": [
    "# Display the original array and segment tree\n",
    "print(\"Original Array:\", arr)\n",
    "print(\"Segment Tree:\", seg_tree.tree)"
   ]
  },
  {
   "cell_type": "code",
   "execution_count": 6,
   "metadata": {},
   "outputs": [
    {
     "name": "stdout",
     "output_type": "stream",
     "text": [
      "Query [1, 3]: 9.0\n"
     ]
    }
   ],
   "source": [
    "# Query the sum of elements in the range [1, 3]\n",
    "print(\"Query [1, 3]:\", seg_tree.query(1, 3))"
   ]
  },
  {
   "cell_type": "code",
   "execution_count": 7,
   "metadata": {},
   "outputs": [],
   "source": [
    "# Update the value at index 2 to 7\n",
    "seg_tree.update(2, 7)\n",
    "arr[2] = 7"
   ]
  },
  {
   "cell_type": "code",
   "execution_count": 8,
   "metadata": {},
   "outputs": [
    {
     "name": "stdout",
     "output_type": "stream",
     "text": [
      "Array after update: [1, 2, 7, 4, 5]\n",
      "Segment Tree after update: [ 0. 19. 10.  9.  3.  7.  4.  5.  1.  2.  0.  0.  0.  0.  0.  0.  0.  0.\n",
      "  0.  0.]\n"
     ]
    }
   ],
   "source": [
    "# Display the array and segment tree after the update\n",
    "print(\"Array after update:\", arr)\n",
    "print(\"Segment Tree after update:\", seg_tree.tree)"
   ]
  },
  {
   "cell_type": "code",
   "execution_count": 9,
   "metadata": {},
   "outputs": [
    {
     "name": "stdout",
     "output_type": "stream",
     "text": [
      "13.0\n"
     ]
    }
   ],
   "source": [
    "print(seg_tree.query(1, 3))"
   ]
  },
  {
   "cell_type": "markdown",
   "metadata": {},
   "source": [
    "# Жадные алгоритмы"
   ]
  },
  {
   "cell_type": "markdown",
   "metadata": {},
   "source": [
    "Жадными называют класс алгоритмов, заключающихся в принятии локально оптимальных решений на каждом этапе. Так как локально оптимальное решение вычислить гораздо проще, чем глобально оптимальное, такие алгоритмы обычно имеют хорошую асимптотику."
   ]
  },
  {
   "cell_type": "markdown",
   "metadata": {},
   "source": [
    "**Задача.** Монетная система некоторого государства состоит из монет достоинством $$a_1 = 1 < a_2 < a_3 < ... < a_n,$$ причём каждый следующий номинал делится на предыдущий. Требуется выдать сумму S наименьшим возможным количеством монет."
   ]
  },
  {
   "cell_type": "code",
   "execution_count": 3,
   "metadata": {},
   "outputs": [],
   "source": [
    "a = (1, 2, 5, 10, 50, 100, 500, 1000, 2000, 5000)"
   ]
  },
  {
   "cell_type": "code",
   "execution_count": 4,
   "metadata": {},
   "outputs": [],
   "source": [
    "def solution(s):\n",
    "    coins = []\n",
    "    for x in reversed(a):\n",
    "        coins += [x] * (s // x)\n",
    "        s %= x\n",
    "    return coins"
   ]
  },
  {
   "cell_type": "code",
   "execution_count": 5,
   "metadata": {},
   "outputs": [
    {
     "data": {
      "text/plain": [
       "[10, 10, 2, 2]"
      ]
     },
     "execution_count": 5,
     "metadata": {},
     "output_type": "execute_result"
    }
   ],
   "source": [
    "solution(24)"
   ]
  }
 ],
 "metadata": {
  "kernelspec": {
   "display_name": "Python 3",
   "language": "python",
   "name": "python3"
  },
  "language_info": {
   "codemirror_mode": {
    "name": "ipython",
    "version": 3
   },
   "file_extension": ".py",
   "mimetype": "text/x-python",
   "name": "python",
   "nbconvert_exporter": "python",
   "pygments_lexer": "ipython3",
   "version": "3.11.7"
  }
 },
 "nbformat": 4,
 "nbformat_minor": 2
}
